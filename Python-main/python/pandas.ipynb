{
 "cells": [
  {
   "cell_type": "code",
   "execution_count": 38,
   "metadata": {},
   "outputs": [
    {
     "name": "stdout",
     "output_type": "stream",
     "text": [
      "<class 'pandas.core.frame.DataFrame'>\n",
      "RangeIndex: 200 entries, 0 to 199\n",
      "Data columns (total 10 columns):\n",
      " #   Column  Non-Null Count  Dtype         \n",
      "---  ------  --------------  -----         \n",
      " 0   순위      200 non-null    int64         \n",
      " 1   영화명     200 non-null    object        \n",
      " 2   개봉일     200 non-null    datetime64[ns]\n",
      " 3   매출액     200 non-null    int64         \n",
      " 4   관객수     200 non-null    int64         \n",
      " 5   스크린수    200 non-null    int64         \n",
      " 6   상영횟수    200 non-null    int64         \n",
      " 7   대표국적    200 non-null    object        \n",
      " 8   국적      200 non-null    object        \n",
      " 9   배급사     200 non-null    object        \n",
      "dtypes: datetime64[ns](1), int64(5), object(4)\n",
      "memory usage: 15.8+ KB\n"
     ]
    }
   ],
   "source": [
    "import pandas as pd\n",
    "df=pd.read_excel('BoxOffice.xlsx')\n",
    "df.info()"
   ]
  },
  {
   "cell_type": "code",
   "execution_count": 36,
   "metadata": {},
   "outputs": [
    {
     "data": {
      "text/html": [
       "<div>\n",
       "<style scoped>\n",
       "    .dataframe tbody tr th:only-of-type {\n",
       "        vertical-align: middle;\n",
       "    }\n",
       "\n",
       "    .dataframe tbody tr th {\n",
       "        vertical-align: top;\n",
       "    }\n",
       "\n",
       "    .dataframe thead th {\n",
       "        text-align: right;\n",
       "    }\n",
       "</style>\n",
       "<table border=\"1\" class=\"dataframe\">\n",
       "  <thead>\n",
       "    <tr style=\"text-align: right;\">\n",
       "      <th></th>\n",
       "      <th>순위</th>\n",
       "      <th>매출액</th>\n",
       "      <th>관객수</th>\n",
       "      <th>스크린수</th>\n",
       "      <th>상영횟수</th>\n",
       "    </tr>\n",
       "  </thead>\n",
       "  <tbody>\n",
       "    <tr>\n",
       "      <th>count</th>\n",
       "      <td>200.000000</td>\n",
       "      <td>2.000000e+02</td>\n",
       "      <td>2.000000e+02</td>\n",
       "      <td>200.000000</td>\n",
       "      <td>200.000000</td>\n",
       "    </tr>\n",
       "    <tr>\n",
       "      <th>mean</th>\n",
       "      <td>100.500000</td>\n",
       "      <td>4.890116e+10</td>\n",
       "      <td>6.254172e+06</td>\n",
       "      <td>1136.600000</td>\n",
       "      <td>121178.900000</td>\n",
       "    </tr>\n",
       "    <tr>\n",
       "      <th>std</th>\n",
       "      <td>57.879185</td>\n",
       "      <td>2.413008e+10</td>\n",
       "      <td>2.870389e+06</td>\n",
       "      <td>551.556063</td>\n",
       "      <td>51376.273351</td>\n",
       "    </tr>\n",
       "    <tr>\n",
       "      <th>min</th>\n",
       "      <td>1.000000</td>\n",
       "      <td>2.147669e+10</td>\n",
       "      <td>3.379762e+06</td>\n",
       "      <td>238.000000</td>\n",
       "      <td>38456.000000</td>\n",
       "    </tr>\n",
       "    <tr>\n",
       "      <th>25%</th>\n",
       "      <td>50.750000</td>\n",
       "      <td>3.147074e+10</td>\n",
       "      <td>4.159099e+06</td>\n",
       "      <td>705.750000</td>\n",
       "      <td>85929.500000</td>\n",
       "    </tr>\n",
       "    <tr>\n",
       "      <th>50%</th>\n",
       "      <td>100.500000</td>\n",
       "      <td>4.119544e+10</td>\n",
       "      <td>5.274731e+06</td>\n",
       "      <td>1055.000000</td>\n",
       "      <td>110116.500000</td>\n",
       "    </tr>\n",
       "    <tr>\n",
       "      <th>75%</th>\n",
       "      <td>150.250000</td>\n",
       "      <td>5.735942e+10</td>\n",
       "      <td>7.284793e+06</td>\n",
       "      <td>1434.250000</td>\n",
       "      <td>143186.000000</td>\n",
       "    </tr>\n",
       "    <tr>\n",
       "      <th>max</th>\n",
       "      <td>200.000000</td>\n",
       "      <td>1.396555e+11</td>\n",
       "      <td>1.761584e+07</td>\n",
       "      <td>2948.000000</td>\n",
       "      <td>355756.000000</td>\n",
       "    </tr>\n",
       "  </tbody>\n",
       "</table>\n",
       "</div>"
      ],
      "text/plain": [
       "               순위           매출액           관객수         스크린수           상영횟수\n",
       "count  200.000000  2.000000e+02  2.000000e+02   200.000000     200.000000\n",
       "mean   100.500000  4.890116e+10  6.254172e+06  1136.600000  121178.900000\n",
       "std     57.879185  2.413008e+10  2.870389e+06   551.556063   51376.273351\n",
       "min      1.000000  2.147669e+10  3.379762e+06   238.000000   38456.000000\n",
       "25%     50.750000  3.147074e+10  4.159099e+06   705.750000   85929.500000\n",
       "50%    100.500000  4.119544e+10  5.274731e+06  1055.000000  110116.500000\n",
       "75%    150.250000  5.735942e+10  7.284793e+06  1434.250000  143186.000000\n",
       "max    200.000000  1.396555e+11  1.761584e+07  2948.000000  355756.000000"
      ]
     },
     "execution_count": 36,
     "metadata": {},
     "output_type": "execute_result"
    }
   ],
   "source": [
    "import pandas as pd\n",
    "df=pd.read_excel('BoxOffice.xlsx')\n",
    "df.describe()"
   ]
  },
  {
   "cell_type": "code",
   "execution_count": 37,
   "metadata": {},
   "outputs": [
    {
     "data": {
      "text/plain": [
       "대표국적\n",
       "한국    116\n",
       "미국     82\n",
       "영국      1\n",
       "일본      1\n",
       "dtype: int64"
      ]
     },
     "execution_count": 37,
     "metadata": {},
     "output_type": "execute_result"
    }
   ],
   "source": [
    "import pandas as pd\n",
    "df=pd.read_excel('BoxOffice.xlsx')\n",
    "df.value_counts('대표국적')"
   ]
  },
  {
   "cell_type": "code",
   "execution_count": 42,
   "metadata": {},
   "outputs": [
    {
     "data": {
      "text/html": [
       "<div>\n",
       "<style scoped>\n",
       "    .dataframe tbody tr th:only-of-type {\n",
       "        vertical-align: middle;\n",
       "    }\n",
       "\n",
       "    .dataframe tbody tr th {\n",
       "        vertical-align: top;\n",
       "    }\n",
       "\n",
       "    .dataframe thead th {\n",
       "        text-align: right;\n",
       "    }\n",
       "</style>\n",
       "<table border=\"1\" class=\"dataframe\">\n",
       "  <thead>\n",
       "    <tr style=\"text-align: right;\">\n",
       "      <th></th>\n",
       "      <th>순위</th>\n",
       "      <th>영화명</th>\n",
       "      <th>개봉일</th>\n",
       "      <th>매출액</th>\n",
       "      <th>관객수</th>\n",
       "      <th>스크린수</th>\n",
       "      <th>상영횟수</th>\n",
       "      <th>대표국적</th>\n",
       "      <th>국적</th>\n",
       "      <th>배급사</th>\n",
       "    </tr>\n",
       "  </thead>\n",
       "  <tbody>\n",
       "    <tr>\n",
       "      <th>194</th>\n",
       "      <td>195</td>\n",
       "      <td>어바웃 타임</td>\n",
       "      <td>2013-12-05</td>\n",
       "      <td>25312684300</td>\n",
       "      <td>3449451</td>\n",
       "      <td>568</td>\n",
       "      <td>67267</td>\n",
       "      <td>영국</td>\n",
       "      <td>영국</td>\n",
       "      <td>유니버설픽쳐스인터내셔널 코리아(유)</td>\n",
       "    </tr>\n",
       "  </tbody>\n",
       "</table>\n",
       "</div>"
      ],
      "text/plain": [
       "      순위     영화명        개봉일          매출액      관객수  스크린수   상영횟수 대표국적  국적  \\\n",
       "194  195  어바웃 타임 2013-12-05  25312684300  3449451   568  67267   영국  영국   \n",
       "\n",
       "                     배급사  \n",
       "194  유니버설픽쳐스인터내셔널 코리아(유)  "
      ]
     },
     "execution_count": 42,
     "metadata": {},
     "output_type": "execute_result"
    }
   ],
   "source": [
    "import pandas as pd\n",
    "df=pd.read_excel('BoxOffice.xlsx')\n",
    "df[df['대표국적']=='영국']"
   ]
  },
  {
   "cell_type": "code",
   "execution_count": 43,
   "metadata": {},
   "outputs": [
    {
     "data": {
      "text/plain": [
       "대표국적\n",
       "미국      5\n",
       "영국    195\n",
       "일본    172\n",
       "한국      1\n",
       "Name: 순위, dtype: int64"
      ]
     },
     "execution_count": 43,
     "metadata": {},
     "output_type": "execute_result"
    }
   ],
   "source": [
    "import pandas as pd\n",
    "df=pd.read_excel('BoxOffice.xlsx')\n",
    "df.groupby('대표국적')['순위'].min()"
   ]
  }
 ],
 "metadata": {
  "kernelspec": {
   "display_name": "jsw",
   "language": "python",
   "name": "conda"
  },
  "language_info": {
   "codemirror_mode": {
    "name": "ipython",
    "version": 3
   },
   "file_extension": ".py",
   "mimetype": "text/x-python",
   "name": "python",
   "nbconvert_exporter": "python",
   "pygments_lexer": "ipython3",
   "version": "3.10.10"
  },
  "orig_nbformat": 4
 },
 "nbformat": 4,
 "nbformat_minor": 2
}
