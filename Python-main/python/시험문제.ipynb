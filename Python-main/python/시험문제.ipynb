{
 "cells": [
  {
   "cell_type": "code",
   "execution_count": 1,
   "metadata": {},
   "outputs": [
    {
     "name": "stdout",
     "output_type": "stream",
     "text": [
      "6\n"
     ]
    }
   ],
   "source": [
    "#1\n",
    "def func(a,b=1,c=2):\n",
    "    print(a+b+c)\n",
    "func(3)"
   ]
  },
  {
   "cell_type": "code",
   "execution_count": 2,
   "metadata": {},
   "outputs": [
    {
     "name": "stdout",
     "output_type": "stream",
     "text": [
      "1\n",
      "2\n",
      "3\n"
     ]
    }
   ],
   "source": [
    "#2\n",
    "def func(*args):\n",
    "    for arg in args:\n",
    "        print(arg)\n",
    "func(1,2,3)"
   ]
  },
  {
   "cell_type": "code",
   "execution_count": 5,
   "metadata": {},
   "outputs": [
    {
     "name": "stdout",
     "output_type": "stream",
     "text": [
      "(3,)\n"
     ]
    }
   ],
   "source": [
    "#3\n",
    "import numpy as np\n",
    "arr=np.array([1,2,3])\n",
    "print(arr.shape)"
   ]
  },
  {
   "cell_type": "code",
   "execution_count": 3,
   "metadata": {},
   "outputs": [
    {
     "name": "stdout",
     "output_type": "stream",
     "text": [
      "[1 2]\n"
     ]
    }
   ],
   "source": [
    "#4\n",
    "import numpy as np\n",
    "arr=np.array([[1,2],[3,4]])\n",
    "print(arr[0])"
   ]
  },
  {
   "cell_type": "code",
   "execution_count": 4,
   "metadata": {},
   "outputs": [
    {
     "name": "stdout",
     "output_type": "stream",
     "text": [
      "[2 4 6]\n"
     ]
    }
   ],
   "source": [
    "#5\n",
    "import numpy as np\n",
    "arr=np.array([1,2,3])\n",
    "print(arr*2)"
   ]
  },
  {
   "cell_type": "code",
   "execution_count": 6,
   "metadata": {},
   "outputs": [
    {
     "name": "stdout",
     "output_type": "stream",
     "text": [
      "[[1 3]\n",
      " [2 4]]\n"
     ]
    }
   ],
   "source": [
    "#6\n",
    "import numpy as np\n",
    "arr=np.array([[1,2],[3,4]])\n",
    "print(arr.T)"
   ]
  },
  {
   "cell_type": "code",
   "execution_count": 9,
   "metadata": {},
   "outputs": [
    {
     "name": "stdout",
     "output_type": "stream",
     "text": [
      "0      Alice\n",
      "1        Bob\n",
      "2    Charlie\n",
      "Name: name, dtype: object\n"
     ]
    }
   ],
   "source": [
    "#7\n",
    "import pandas as pd\n",
    "df=pd.DataFrame({'name':['Alice','Bob','Charlie'],'age':[25,30,35]})\n",
    "print(df['name'])"
   ]
  },
  {
   "cell_type": "code",
   "execution_count": 11,
   "metadata": {},
   "outputs": [
    {
     "name": "stdout",
     "output_type": "stream",
     "text": [
      "name    Bob\n",
      "age      30\n",
      "Name: 1, dtype: object\n"
     ]
    }
   ],
   "source": [
    "#8\n",
    "import pandas as pd\n",
    "df=pd.DataFrame({'name':['Alice','Bob','Charlie'],'age':[25,30,35]})\n",
    "print(df.loc[1])"
   ]
  },
  {
   "cell_type": "code",
   "execution_count": 12,
   "metadata": {},
   "outputs": [
    {
     "name": "stdout",
     "output_type": "stream",
     "text": [
      "name    Bob\n",
      "age      30\n",
      "Name: 1, dtype: object\n"
     ]
    }
   ],
   "source": [
    "#9\n",
    "import pandas as pd\n",
    "df=pd.DataFrame({'name':['Alice','Bob','Charlie'],'age':[25,30,35]})\n",
    "print(df.iloc[1])"
   ]
  },
  {
   "cell_type": "code",
   "execution_count": 14,
   "metadata": {},
   "outputs": [
    {
     "name": "stdout",
     "output_type": "stream",
     "text": [
      "      name  age\n",
      "2  Charlie   35\n"
     ]
    }
   ],
   "source": [
    "#10\n",
    "import pandas as pd\n",
    "df=pd.DataFrame({'name':['Alice','Bob','Charlie'],'age':[25,30,35]})\n",
    "print(df[df['age']>30])"
   ]
  },
  {
   "cell_type": "code",
   "execution_count": 1,
   "metadata": {},
   "outputs": [
    {
     "data": {
      "image/png": "[encoded data removed]",
      "text/plain": [
       "<Figure size 432x288 with 1 Axes>"
      ]
     },
     "metadata": {
      "needs_background": "light"
     },
     "output_type": "display_data"
    }
   ],
   "source": [
    "#11\n",
    "import matplotlib.pyplot as plt\n",
    "x=[1,2,3]\n",
    "y=[2,4,6]\n",
    "plt.plot(x,y)\n",
    "plt.show()"
   ]
  },
  {
   "cell_type": "code",
   "execution_count": 2,
   "metadata": {},
   "outputs": [
    {
     "data": {
      "image/png": "[encoded data removed]",
      "text/plain": [
       "<Figure size 432x288 with 1 Axes>"
      ]
     },
     "metadata": {
      "needs_background": "light"
     },
     "output_type": "display_data"
    }
   ],
   "source": [
    "#12\n",
    "import matplotlib.pyplot as plt\n",
    "x=[1,2,3]\n",
    "y=[2,4,6]\n",
    "plt.scatter(x,y)\n",
    "plt.show()"
   ]
  },
  {
   "cell_type": "code",
   "execution_count": 3,
   "metadata": {},
   "outputs": [
    {
     "data": {
      "image/png": "[encoded data removed]",
      "text/plain": [
       "<Figure size 432x288 with 1 Axes>"
      ]
     },
     "metadata": {
      "needs_background": "light"
     },
     "output_type": "display_data"
    }
   ],
   "source": [
    "#13\n",
    "import matplotlib.pyplot as plt\n",
    "x=[1,2,3]\n",
    "y=[2,4,6]\n",
    "plt.bar(x,y)\n",
    "plt.show()"
   ]
  },
  {
   "cell_type": "code",
   "execution_count": 6,
   "metadata": {},
   "outputs": [
    {
     "data": {
      "image/png": "[encoded data removed]",
      "text/plain": [
       "<Figure size 432x288 with 1 Axes>"
      ]
     },
     "metadata": {},
     "output_type": "display_data"
    }
   ],
   "source": [
    "#14\n",
    "import matplotlib.pyplot as plt\n",
    "x=[1.5]\n",
    "y=[0.5]\n",
    "plt.pie(x,y)\n",
    "plt.show()"
   ]
  },
  {
   "cell_type": "code",
   "execution_count": 7,
   "metadata": {},
   "outputs": [
    {
     "name": "stdout",
     "output_type": "stream",
     "text": [
      "2.5\n"
     ]
    }
   ],
   "source": [
    "#15\n",
    "import numpy as np\n",
    "arr=np.array([[1,2],[3,4]])\n",
    "print(np.mean(arr))"
   ]
  },
  {
   "cell_type": "code",
   "execution_count": 8,
   "metadata": {},
   "outputs": [
    {
     "name": "stdout",
     "output_type": "stream",
     "text": [
      "        age\n",
      "count   3.0\n",
      "mean   30.0\n",
      "std     5.0\n",
      "min    25.0\n",
      "25%    27.5\n",
      "50%    30.0\n",
      "75%    32.5\n",
      "max    35.0\n"
     ]
    }
   ],
   "source": [
    "#16\n",
    "import pandas as pd\n",
    "df=pd.DataFrame({'name':['Alice','Bob','Charlie'],'age':[25,30,35]})\n",
    "print(df.describe())"
   ]
  },
  {
   "cell_type": "code",
   "execution_count": 9,
   "metadata": {},
   "outputs": [
    {
     "data": {
      "image/png": "[encoded data removed]",
      "text/plain": [
       "<Figure size 432x288 with 1 Axes>"
      ]
     },
     "metadata": {
      "needs_background": "light"
     },
     "output_type": "display_data"
    }
   ],
   "source": [
    "#17\n",
    "import matplotlib.pyplot as plt\n",
    "x=[1,2,3]\n",
    "y=[2,4,6]\n",
    "plt.plot(x,y,'r-')\n",
    "plt.show()"
   ]
  },
  {
   "cell_type": "code",
   "execution_count": 12,
   "metadata": {},
   "outputs": [
    {
     "data": {
      "image/png": "[encoded data removed]",
      "text/plain": [
       "<Figure size 432x288 with 1 Axes>"
      ]
     },
     "metadata": {
      "needs_background": "light"
     },
     "output_type": "display_data"
    }
   ],
   "source": [
    "#18\n",
    "import matplotlib.pyplot as plt\n",
    "x=[1,2,3]\n",
    "y=[2,4,6]\n",
    "plt.plot(x,y,'g*')\n",
    "plt.show()"
   ]
  },
  {
   "cell_type": "code",
   "execution_count": 13,
   "metadata": {},
   "outputs": [
    {
     "data": {
      "image/png": "[encoded data removed]",
      "text/plain": [
       "<Figure size 432x288 with 1 Axes>"
      ]
     },
     "metadata": {
      "needs_background": "light"
     },
     "output_type": "display_data"
    }
   ],
   "source": [
    "#19\n",
    "import matplotlib.pyplot as plt\n",
    "x=[1,2,3]\n",
    "y=[2,4,6]\n",
    "plt.plot(x,y,'bo')\n",
    "plt.show()"
   ]
  },
  {
   "cell_type": "code",
   "execution_count": null,
   "metadata": {},
   "outputs": [],
   "source": [
    "#20\n",
    "b\n",
    "#21\n",
    "b\n",
    "#22\n",
    "b  #*\n",
    "#23\n",
    "c\n",
    "#24\n",
    "b,c  #*\n",
    "#25\n",
    "d\n",
    "#26\n",
    "d  #*\n",
    "#27\n",
    "d\n",
    "#28\n",
    "a  #*\n",
    "#29\n",
    "a  #*\n",
    "#30\n",
    "d\n",
    "#31\n",
    "c\n",
    "#32\n",
    "모두 정답  #**\n",
    "#33\n",
    "a,c\n",
    "#34\n",
    "a,c  #*\n",
    "#35\n",
    "d\n",
    "#36\n",
    "a\n",
    "#37\n",
    "c  #*\n",
    "#38\n",
    "a\n",
    "#39\n",
    "b\n",
    "#40\n",
    "b\n",
    "#41\n",
    "b\n",
    "#42\n",
    "c\n",
    "#43\n",
    "b\n",
    "#44\n",
    "c\n",
    "#45\n",
    "a\n",
    "#46\n",
    "b\n",
    "#47\n",
    "b  #*\n",
    "#48\n",
    "c  #*\n",
    "#49\n",
    "a\n",
    "#50\n",
    "d  #*\n",
    "#51\n",
    "b  #*\n",
    "#52\n",
    "c  #*\n",
    "#53\n",
    "d  #*\n",
    "#54\n",
    "모두 정답  #*\n",
    "#55\n",
    "a  #*"
   ]
  }
 ],
 "metadata": {
  "kernelspec": {
   "display_name": "jsw",
   "language": "python",
   "name": "conda"
  },
  "language_info": {
   "codemirror_mode": {
    "name": "ipython",
    "version": 3
   },
   "file_extension": ".py",
   "mimetype": "text/x-python",
   "name": "python",
   "nbconvert_exporter": "python",
   "pygments_lexer": "ipython3",
   "version": "3.10.11"
  },
  "orig_nbformat": 4
 },
 "nbformat": 4,
 "nbformat_minor": 2
}
