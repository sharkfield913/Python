{
 "cells": [
  {
   "cell_type": "code",
   "execution_count": 27,
   "metadata": {},
   "outputs": [
    {
     "name": "stdout",
     "output_type": "stream",
     "text": [
      "입력 데이터 출력 [90, 70, 30]\n",
      "합계 190\n",
      "인원수 3\n",
      "평균 63.333333333333336\n"
     ]
    }
   ],
   "source": [
    "score=[]\n",
    "while True:\n",
    "    a=input('학생의 점수를 입력하세요')\n",
    "    if a.isdigit():\n",
    "        score.append(int(a))\n",
    "    else:\n",
    "        break\n",
    "print('입력 데이터 출력',score)\n",
    "print('합계',sum(score))\n",
    "print('인원수',len(score))\n",
    "print('평균',sum(score)/len(score))"
   ]
  }
 ],
 "metadata": {
  "kernelspec": {
   "display_name": "jsw",
   "language": "python",
   "name": "conda"
  },
  "language_info": {
   "codemirror_mode": {
    "name": "ipython",
    "version": 3
   },
   "file_extension": ".py",
   "mimetype": "text/x-python",
   "name": "python",
   "nbconvert_exporter": "python",
   "pygments_lexer": "ipython3",
   "version": "3.10.10"
  },
  "orig_nbformat": 4
 },
 "nbformat": 4,
 "nbformat_minor": 2
}
