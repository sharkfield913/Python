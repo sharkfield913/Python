{
 "cells": [
  {
   "cell_type": "code",
   "execution_count": 17,
   "metadata": {},
   "outputs": [
    {
     "name": "stdout",
     "output_type": "stream",
     "text": [
      "{4, 5, 6}\n",
      "{1, 2, 3, 7, 8, 9}\n",
      "{1, 2, 3, 4, 5, 6, 7, 8, 9}\n",
      "{1, 2, 3}\n",
      "{8, 9, 7}\n",
      "{1, 3, 4, 5, 6}\n",
      "{4, 5, 6, 7, 8, 9, 12}\n"
     ]
    }
   ],
   "source": [
    "s1=set({1,2,3,4,5,6})\n",
    "s2=set({4,5,6,7,8,9})\n",
    "print(s1&s2)\n",
    "print(s1^s2)\n",
    "print(s1|s2)\n",
    "print(s1-s2)\n",
    "print(s2-s1)\n",
    "s1.remove(2)\n",
    "print(s1)\n",
    "s2.add(12)\n",
    "print(s2)"
   ]
  }
 ],
 "metadata": {
  "kernelspec": {
   "display_name": "jsw",
   "language": "python",
   "name": "conda"
  },
  "language_info": {
   "codemirror_mode": {
    "name": "ipython",
    "version": 3
   },
   "file_extension": ".py",
   "mimetype": "text/x-python",
   "name": "python",
   "nbconvert_exporter": "python",
   "pygments_lexer": "ipython3",
   "version": "3.10.10"
  },
  "orig_nbformat": 4
 },
 "nbformat": 4,
 "nbformat_minor": 2
}
