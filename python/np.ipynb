{
 "cells": [
  {
   "cell_type": "code",
   "execution_count": 12,
   "metadata": {},
   "outputs": [
    {
     "name": "stdout",
     "output_type": "stream",
     "text": [
      "<class 'numpy.ndarray'> [1 2 3]\n",
      "[1.2 2.3 3.5]\n",
      "[[1 2 3]\n",
      " [4 5 6]]\n"
     ]
    }
   ],
   "source": [
    "import numpy as np\n",
    "arr1=np.array([1,2,3])\n",
    "arr2=np.array([1.2,2.3,3.5])\n",
    "arr3=np.array([[1,2,3],[4,5,6]])\n",
    "print(type(arr1),arr1)\n",
    "print(arr2)\n",
    "print(arr3)\n"
   ]
  },
  {
   "cell_type": "code",
   "execution_count": 14,
   "metadata": {},
   "outputs": [
    {
     "name": "stdout",
     "output_type": "stream",
     "text": [
      "[0.47963006 0.5863974 ]\n",
      "[ 0.26285868 -1.88548093]\n",
      "[[8 7]\n",
      " [2 3]]\n",
      "[[7 6]\n",
      " [2 8]]\n"
     ]
    }
   ],
   "source": [
    "import numpy as np\n",
    "arr1=np.random.rand(2)\n",
    "arr2=np.random.randn(2)\n",
    "arr3=np.random.randint(10,size=(2,2))\n",
    "arr4=np.random.randint(10,size=(2,2))\n",
    "print(arr1)\n",
    "print(arr2)\n",
    "print(arr3)\n",
    "print(arr4)"
   ]
  },
  {
   "cell_type": "code",
   "execution_count": 17,
   "metadata": {},
   "outputs": [
    {
     "name": "stdout",
     "output_type": "stream",
     "text": [
      "[ 80  70 150]\n",
      "[40. 35. 75.]\n",
      "36.666666666666664\n",
      "63.333333333333336\n"
     ]
    }
   ],
   "source": [
    "import numpy as np\n",
    "국어=np.array([20,30,60])\n",
    "영어=np.array([60,40,90])\n",
    "총점=국어+영어\n",
    "평균=총점/2\n",
    "print(총점)\n",
    "print(평균)\n",
    "print(np.mean(국어))\n",
    "print(np.mean(영어))"
   ]
  }
 ],
 "metadata": {
  "kernelspec": {
   "display_name": "jsw",
   "language": "python",
   "name": "conda"
  },
  "language_info": {
   "codemirror_mode": {
    "name": "ipython",
    "version": 3
   },
   "file_extension": ".py",
   "mimetype": "text/x-python",
   "name": "python",
   "nbconvert_exporter": "python",
   "pygments_lexer": "ipython3",
   "version": "3.10.10"
  },
  "orig_nbformat": 4
 },
 "nbformat": 4,
 "nbformat_minor": 2
}
