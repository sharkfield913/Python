{
 "cells": [
  {
   "cell_type": "code",
   "execution_count": 3,
   "metadata": {},
   "outputs": [
    {
     "name": "stdout",
     "output_type": "stream",
     "text": [
      "200 점은 노력 요함\n"
     ]
    }
   ],
   "source": [
    "pt=int(input(\"점수를 입력하세요\"))\n",
    "if pt>=900:\n",
    "    print(pt,\"점은 최상\")\n",
    "    print(\"축하합니다.\")\n",
    "elif 600 <=pt<900:\n",
    "    print(pt,\"점은 보통\")\n",
    "else:\n",
    "    print(pt,\"점은 노력 요함\")"
   ]
  }
 ],
 "metadata": {
  "kernelspec": {
   "display_name": "jsw",
   "language": "python",
   "name": "conda"
  },
  "language_info": {
   "codemirror_mode": {
    "name": "ipython",
    "version": 3
   },
   "file_extension": ".py",
   "mimetype": "text/x-python",
   "name": "python",
   "nbconvert_exporter": "python",
   "pygments_lexer": "ipython3",
   "version": "3.10.10"
  },
  "orig_nbformat": 4
 },
 "nbformat": 4,
 "nbformat_minor": 2
}
